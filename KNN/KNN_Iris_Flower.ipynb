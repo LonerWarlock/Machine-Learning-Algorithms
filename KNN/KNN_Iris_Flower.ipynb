{
 "cells": [
  {
   "cell_type": "code",
   "execution_count": 1,
   "id": "cc629c27-a147-480c-861d-cf3af90b4832",
   "metadata": {},
   "outputs": [],
   "source": [
    "import pandas as pd\n",
    "import numpy as np\n",
    "import matplotlib.pyplot as plt\n",
    "import seaborn as sns"
   ]
  },
  {
   "cell_type": "code",
   "execution_count": 2,
   "id": "22c54f37-dd81-406d-9432-4713f8837e7c",
   "metadata": {},
   "outputs": [
    {
     "data": {
      "text/html": [
       "<div>\n",
       "<style scoped>\n",
       "    .dataframe tbody tr th:only-of-type {\n",
       "        vertical-align: middle;\n",
       "    }\n",
       "\n",
       "    .dataframe tbody tr th {\n",
       "        vertical-align: top;\n",
       "    }\n",
       "\n",
       "    .dataframe thead th {\n",
       "        text-align: right;\n",
       "    }\n",
       "</style>\n",
       "<table border=\"1\" class=\"dataframe\">\n",
       "  <thead>\n",
       "    <tr style=\"text-align: right;\">\n",
       "      <th></th>\n",
       "      <th>sepal_length</th>\n",
       "      <th>sepal_width</th>\n",
       "      <th>petal_length</th>\n",
       "      <th>petal_width</th>\n",
       "      <th>species</th>\n",
       "    </tr>\n",
       "  </thead>\n",
       "  <tbody>\n",
       "    <tr>\n",
       "      <th>0</th>\n",
       "      <td>NaN</td>\n",
       "      <td>3.5</td>\n",
       "      <td>1.4</td>\n",
       "      <td>0.2</td>\n",
       "      <td>Iris-setosa</td>\n",
       "    </tr>\n",
       "    <tr>\n",
       "      <th>1</th>\n",
       "      <td>4.9</td>\n",
       "      <td>3.0</td>\n",
       "      <td>1.4</td>\n",
       "      <td>0.2</td>\n",
       "      <td>Iris-setosa</td>\n",
       "    </tr>\n",
       "    <tr>\n",
       "      <th>2</th>\n",
       "      <td>4.7</td>\n",
       "      <td>3.2</td>\n",
       "      <td>1.3</td>\n",
       "      <td>0.2</td>\n",
       "      <td>Iris-setosa</td>\n",
       "    </tr>\n",
       "    <tr>\n",
       "      <th>3</th>\n",
       "      <td>4.6</td>\n",
       "      <td>3.1</td>\n",
       "      <td>1.5</td>\n",
       "      <td>0.2</td>\n",
       "      <td>Iris-setosa</td>\n",
       "    </tr>\n",
       "    <tr>\n",
       "      <th>4</th>\n",
       "      <td>5.0</td>\n",
       "      <td>3.6</td>\n",
       "      <td>1.4</td>\n",
       "      <td>0.2</td>\n",
       "      <td>Iris-setosa</td>\n",
       "    </tr>\n",
       "  </tbody>\n",
       "</table>\n",
       "</div>"
      ],
      "text/plain": [
       "   sepal_length  sepal_width  petal_length  petal_width      species\n",
       "0           NaN          3.5           1.4          0.2  Iris-setosa\n",
       "1           4.9          3.0           1.4          0.2  Iris-setosa\n",
       "2           4.7          3.2           1.3          0.2  Iris-setosa\n",
       "3           4.6          3.1           1.5          0.2  Iris-setosa\n",
       "4           5.0          3.6           1.4          0.2  Iris-setosa"
      ]
     },
     "execution_count": 2,
     "metadata": {},
     "output_type": "execute_result"
    }
   ],
   "source": [
    "df = pd.read_csv('IRIS.csv')\n",
    "df.head()"
   ]
  },
  {
   "cell_type": "code",
   "execution_count": 3,
   "id": "0faa57f9-efe3-471c-b9b4-ec8bd008fb5d",
   "metadata": {},
   "outputs": [],
   "source": [
    "df = df.sample(frac=1, random_state=0).reset_index(drop=True)\n",
    "# random_state=0 ensures that shuffling happens the same every time the code is run. (0 is the random seed given)\n",
    "# '(frac=1)' ensures the effect applies to the entire dataset (frac=0.5 for half the dataset)\n",
    "# 'reset_index()' changes the index values of all the rows and 'drop=True' drops the previous indices"
   ]
  },
  {
   "cell_type": "code",
   "execution_count": 4,
   "id": "1885c71d-05e2-42d8-a5a3-b83b79887c9a",
   "metadata": {},
   "outputs": [
    {
     "data": {
      "text/html": [
       "<div>\n",
       "<style scoped>\n",
       "    .dataframe tbody tr th:only-of-type {\n",
       "        vertical-align: middle;\n",
       "    }\n",
       "\n",
       "    .dataframe tbody tr th {\n",
       "        vertical-align: top;\n",
       "    }\n",
       "\n",
       "    .dataframe thead th {\n",
       "        text-align: right;\n",
       "    }\n",
       "</style>\n",
       "<table border=\"1\" class=\"dataframe\">\n",
       "  <thead>\n",
       "    <tr style=\"text-align: right;\">\n",
       "      <th></th>\n",
       "      <th>sepal_length</th>\n",
       "      <th>sepal_width</th>\n",
       "      <th>petal_length</th>\n",
       "      <th>petal_width</th>\n",
       "      <th>species</th>\n",
       "    </tr>\n",
       "  </thead>\n",
       "  <tbody>\n",
       "    <tr>\n",
       "      <th>0</th>\n",
       "      <td>5.8</td>\n",
       "      <td>2.8</td>\n",
       "      <td>5.1</td>\n",
       "      <td>2.4</td>\n",
       "      <td>Iris-virginica</td>\n",
       "    </tr>\n",
       "    <tr>\n",
       "      <th>1</th>\n",
       "      <td>6.0</td>\n",
       "      <td>2.2</td>\n",
       "      <td>4.0</td>\n",
       "      <td>1.0</td>\n",
       "      <td>Iris-versicolor</td>\n",
       "    </tr>\n",
       "    <tr>\n",
       "      <th>2</th>\n",
       "      <td>5.5</td>\n",
       "      <td>4.2</td>\n",
       "      <td>1.4</td>\n",
       "      <td>0.2</td>\n",
       "      <td>Iris-setosa</td>\n",
       "    </tr>\n",
       "    <tr>\n",
       "      <th>3</th>\n",
       "      <td>7.3</td>\n",
       "      <td>2.9</td>\n",
       "      <td>6.3</td>\n",
       "      <td>1.8</td>\n",
       "      <td>Iris-virginica</td>\n",
       "    </tr>\n",
       "    <tr>\n",
       "      <th>4</th>\n",
       "      <td>5.0</td>\n",
       "      <td>3.4</td>\n",
       "      <td>NaN</td>\n",
       "      <td>0.2</td>\n",
       "      <td>Iris-setosa</td>\n",
       "    </tr>\n",
       "    <tr>\n",
       "      <th>5</th>\n",
       "      <td>6.3</td>\n",
       "      <td>3.3</td>\n",
       "      <td>6.0</td>\n",
       "      <td>2.5</td>\n",
       "      <td>Iris-virginica</td>\n",
       "    </tr>\n",
       "    <tr>\n",
       "      <th>6</th>\n",
       "      <td>NaN</td>\n",
       "      <td>3.5</td>\n",
       "      <td>1.3</td>\n",
       "      <td>0.3</td>\n",
       "      <td>Iris-setosa</td>\n",
       "    </tr>\n",
       "    <tr>\n",
       "      <th>7</th>\n",
       "      <td>6.7</td>\n",
       "      <td>3.1</td>\n",
       "      <td>4.7</td>\n",
       "      <td>1.5</td>\n",
       "      <td>Iris-versicolor</td>\n",
       "    </tr>\n",
       "    <tr>\n",
       "      <th>8</th>\n",
       "      <td>6.8</td>\n",
       "      <td>2.8</td>\n",
       "      <td>4.8</td>\n",
       "      <td>1.4</td>\n",
       "      <td>Iris-versicolor</td>\n",
       "    </tr>\n",
       "    <tr>\n",
       "      <th>9</th>\n",
       "      <td>6.1</td>\n",
       "      <td>2.8</td>\n",
       "      <td>4.0</td>\n",
       "      <td>1.3</td>\n",
       "      <td>Iris-versicolor</td>\n",
       "    </tr>\n",
       "  </tbody>\n",
       "</table>\n",
       "</div>"
      ],
      "text/plain": [
       "   sepal_length  sepal_width  petal_length  petal_width          species\n",
       "0           5.8          2.8           5.1          2.4   Iris-virginica\n",
       "1           6.0          2.2           4.0          1.0  Iris-versicolor\n",
       "2           5.5          4.2           1.4          0.2      Iris-setosa\n",
       "3           7.3          2.9           6.3          1.8   Iris-virginica\n",
       "4           5.0          3.4           NaN          0.2      Iris-setosa\n",
       "5           6.3          3.3           6.0          2.5   Iris-virginica\n",
       "6           NaN          3.5           1.3          0.3      Iris-setosa\n",
       "7           6.7          3.1           4.7          1.5  Iris-versicolor\n",
       "8           6.8          2.8           4.8          1.4  Iris-versicolor\n",
       "9           6.1          2.8           4.0          1.3  Iris-versicolor"
      ]
     },
     "execution_count": 4,
     "metadata": {},
     "output_type": "execute_result"
    }
   ],
   "source": [
    "df.head(10)"
   ]
  },
  {
   "cell_type": "code",
   "execution_count": 5,
   "id": "58103a99-7736-4859-9572-a1341313cd8d",
   "metadata": {},
   "outputs": [
    {
     "data": {
      "text/plain": [
       "(150, 5)"
      ]
     },
     "execution_count": 5,
     "metadata": {},
     "output_type": "execute_result"
    }
   ],
   "source": [
    "df.shape"
   ]
  },
  {
   "cell_type": "code",
   "execution_count": 6,
   "id": "91c98886-720e-4f49-a38f-5eab4d6bbab7",
   "metadata": {},
   "outputs": [
    {
     "name": "stdout",
     "output_type": "stream",
     "text": [
      "<class 'pandas.core.frame.DataFrame'>\n",
      "RangeIndex: 150 entries, 0 to 149\n",
      "Data columns (total 5 columns):\n",
      " #   Column        Non-Null Count  Dtype  \n",
      "---  ------        --------------  -----  \n",
      " 0   sepal_length  146 non-null    float64\n",
      " 1   sepal_width   148 non-null    float64\n",
      " 2   petal_length  145 non-null    float64\n",
      " 3   petal_width   146 non-null    float64\n",
      " 4   species       150 non-null    object \n",
      "dtypes: float64(4), object(1)\n",
      "memory usage: 6.0+ KB\n"
     ]
    }
   ],
   "source": [
    "df.info()"
   ]
  },
  {
   "cell_type": "code",
   "execution_count": 7,
   "id": "7ac4943a-c2fc-4b4c-82ff-c65dab440eea",
   "metadata": {},
   "outputs": [
    {
     "name": "stdout",
     "output_type": "stream",
     "text": [
      "sepal_length\n",
      "5.0    9\n",
      "6.3    9\n",
      "6.7    8\n",
      "5.7    8\n",
      "5.8    7\n",
      "6.4    7\n",
      "5.1    7\n",
      "5.5    7\n",
      "6.0    6\n",
      "4.9    6\n",
      "5.4    6\n",
      "5.6    6\n",
      "6.1    6\n",
      "6.5    5\n",
      "4.8    5\n",
      "6.9    4\n",
      "7.7    4\n",
      "4.6    4\n",
      "6.2    4\n",
      "6.8    3\n",
      "5.2    3\n",
      "7.2    3\n",
      "5.9    3\n",
      "4.4    3\n",
      "4.7    2\n",
      "6.6    2\n",
      "7.3    1\n",
      "7.0    1\n",
      "5.3    1\n",
      "4.3    1\n",
      "7.1    1\n",
      "4.5    1\n",
      "7.6    1\n",
      "7.9    1\n",
      "7.4    1\n",
      "Name: count, dtype: int64\n",
      "sepal_width\n",
      "3.0    26\n",
      "2.8    14\n",
      "3.4    12\n",
      "3.1    12\n",
      "3.2    12\n",
      "2.9    10\n",
      "2.7     9\n",
      "2.5     8\n",
      "3.8     6\n",
      "3.3     6\n",
      "3.5     6\n",
      "2.6     5\n",
      "2.3     4\n",
      "3.6     3\n",
      "2.2     3\n",
      "2.4     3\n",
      "3.7     3\n",
      "3.9     2\n",
      "2.0     1\n",
      "4.2     1\n",
      "4.4     1\n",
      "4.1     1\n",
      "Name: count, dtype: int64\n",
      "petal_length\n",
      "1.5    13\n",
      "1.4    12\n",
      "5.1     8\n",
      "4.5     8\n",
      "1.3     7\n",
      "1.6     7\n",
      "5.6     6\n",
      "4.7     5\n",
      "4.0     5\n",
      "4.9     4\n",
      "5.0     4\n",
      "4.2     4\n",
      "1.7     4\n",
      "4.4     3\n",
      "3.9     3\n",
      "4.1     3\n",
      "5.8     3\n",
      "5.7     3\n",
      "4.8     3\n",
      "6.1     3\n",
      "5.5     3\n",
      "4.6     3\n",
      "5.2     2\n",
      "6.7     2\n",
      "1.2     2\n",
      "5.4     2\n",
      "5.9     2\n",
      "5.3     2\n",
      "1.9     2\n",
      "4.3     2\n",
      "3.3     2\n",
      "3.5     2\n",
      "6.0     2\n",
      "3.6     1\n",
      "1.1     1\n",
      "3.0     1\n",
      "6.3     1\n",
      "6.6     1\n",
      "6.9     1\n",
      "6.4     1\n",
      "1.0     1\n",
      "3.7     1\n",
      "Name: count, dtype: int64\n",
      "petal_width\n",
      "0.2    27\n",
      "1.5    12\n",
      "1.3    12\n",
      "1.8    11\n",
      "2.3     8\n",
      "1.4     8\n",
      "0.4     7\n",
      "1.0     7\n",
      "0.3     6\n",
      "0.1     6\n",
      "2.0     6\n",
      "2.1     6\n",
      "1.9     5\n",
      "1.2     5\n",
      "1.6     4\n",
      "1.1     3\n",
      "2.4     3\n",
      "2.2     3\n",
      "2.5     3\n",
      "1.7     2\n",
      "0.6     1\n",
      "0.5     1\n",
      "Name: count, dtype: int64\n",
      "species\n",
      "Iris-virginica     50\n",
      "Iris-versicolor    50\n",
      "Iris-setosa        50\n",
      "Name: count, dtype: int64\n"
     ]
    }
   ],
   "source": [
    "for var in df.columns:\n",
    "    print(df[var].value_counts())"
   ]
  },
  {
   "cell_type": "code",
   "execution_count": 8,
   "id": "e808aef2-3e03-496f-9b4c-1eaadb3fa319",
   "metadata": {},
   "outputs": [
    {
     "data": {
      "text/plain": [
       "sepal_length    float64\n",
       "sepal_width     float64\n",
       "petal_length    float64\n",
       "petal_width     float64\n",
       "species          object\n",
       "dtype: object"
      ]
     },
     "execution_count": 8,
     "metadata": {},
     "output_type": "execute_result"
    }
   ],
   "source": [
    "df.dtypes"
   ]
  },
  {
   "cell_type": "code",
   "execution_count": 9,
   "id": "c677c7cf-6a0a-4dc1-b863-07e48ea96f7e",
   "metadata": {},
   "outputs": [
    {
     "data": {
      "text/plain": [
       "sepal_length    4\n",
       "sepal_width     2\n",
       "petal_length    5\n",
       "petal_width     4\n",
       "species         0\n",
       "dtype: int64"
      ]
     },
     "execution_count": 9,
     "metadata": {},
     "output_type": "execute_result"
    }
   ],
   "source": [
    "df.isnull().sum()"
   ]
  },
  {
   "cell_type": "code",
   "execution_count": 10,
   "id": "22c5e3be-3392-4227-b827-04f248dafc45",
   "metadata": {},
   "outputs": [
    {
     "data": {
      "text/plain": [
       "sepal_length    4\n",
       "sepal_width     2\n",
       "petal_length    5\n",
       "petal_width     4\n",
       "species         0\n",
       "dtype: int64"
      ]
     },
     "execution_count": 10,
     "metadata": {},
     "output_type": "execute_result"
    }
   ],
   "source": [
    "df.isna().sum()"
   ]
  },
  {
   "cell_type": "code",
   "execution_count": 11,
   "id": "988b0541-0530-454d-a634-b6c935692430",
   "metadata": {},
   "outputs": [
    {
     "data": {
      "text/plain": [
       "species\n",
       "Iris-virginica     50\n",
       "Iris-versicolor    50\n",
       "Iris-setosa        50\n",
       "Name: count, dtype: int64"
      ]
     },
     "execution_count": 11,
     "metadata": {},
     "output_type": "execute_result"
    }
   ],
   "source": [
    "df['species'].value_counts()"
   ]
  },
  {
   "cell_type": "markdown",
   "id": "7f197573-998f-4e0e-96d7-9d24dc76e2b4",
   "metadata": {},
   "source": [
    "### CONVERTING SPECIES TO NUMERIC VALUES -> EASY TO VISUALIZE"
   ]
  },
  {
   "cell_type": "code",
   "execution_count": 12,
   "id": "48ce891c-aaa3-433d-8d57-518999f4fa62",
   "metadata": {},
   "outputs": [],
   "source": [
    "replace_dict = {\"Iris-setosa\":\"1\", \"Iris-versicolor\":\"2\", \"Iris-virginica\":\"3\"}\n",
    "df['species'] = df['species'].replace(replace_dict)"
   ]
  },
  {
   "cell_type": "code",
   "execution_count": 13,
   "id": "a76b4ea9-b6d8-4a1d-a230-2b0edc9ff26c",
   "metadata": {},
   "outputs": [
    {
     "data": {
      "text/html": [
       "<div>\n",
       "<style scoped>\n",
       "    .dataframe tbody tr th:only-of-type {\n",
       "        vertical-align: middle;\n",
       "    }\n",
       "\n",
       "    .dataframe tbody tr th {\n",
       "        vertical-align: top;\n",
       "    }\n",
       "\n",
       "    .dataframe thead th {\n",
       "        text-align: right;\n",
       "    }\n",
       "</style>\n",
       "<table border=\"1\" class=\"dataframe\">\n",
       "  <thead>\n",
       "    <tr style=\"text-align: right;\">\n",
       "      <th></th>\n",
       "      <th>sepal_length</th>\n",
       "      <th>sepal_width</th>\n",
       "      <th>petal_length</th>\n",
       "      <th>petal_width</th>\n",
       "      <th>species</th>\n",
       "    </tr>\n",
       "  </thead>\n",
       "  <tbody>\n",
       "    <tr>\n",
       "      <th>0</th>\n",
       "      <td>5.8</td>\n",
       "      <td>2.8</td>\n",
       "      <td>5.1</td>\n",
       "      <td>2.4</td>\n",
       "      <td>3</td>\n",
       "    </tr>\n",
       "    <tr>\n",
       "      <th>1</th>\n",
       "      <td>6.0</td>\n",
       "      <td>2.2</td>\n",
       "      <td>4.0</td>\n",
       "      <td>1.0</td>\n",
       "      <td>2</td>\n",
       "    </tr>\n",
       "    <tr>\n",
       "      <th>2</th>\n",
       "      <td>5.5</td>\n",
       "      <td>4.2</td>\n",
       "      <td>1.4</td>\n",
       "      <td>0.2</td>\n",
       "      <td>1</td>\n",
       "    </tr>\n",
       "    <tr>\n",
       "      <th>3</th>\n",
       "      <td>7.3</td>\n",
       "      <td>2.9</td>\n",
       "      <td>6.3</td>\n",
       "      <td>1.8</td>\n",
       "      <td>3</td>\n",
       "    </tr>\n",
       "    <tr>\n",
       "      <th>4</th>\n",
       "      <td>5.0</td>\n",
       "      <td>3.4</td>\n",
       "      <td>NaN</td>\n",
       "      <td>0.2</td>\n",
       "      <td>1</td>\n",
       "    </tr>\n",
       "    <tr>\n",
       "      <th>5</th>\n",
       "      <td>6.3</td>\n",
       "      <td>3.3</td>\n",
       "      <td>6.0</td>\n",
       "      <td>2.5</td>\n",
       "      <td>3</td>\n",
       "    </tr>\n",
       "    <tr>\n",
       "      <th>6</th>\n",
       "      <td>NaN</td>\n",
       "      <td>3.5</td>\n",
       "      <td>1.3</td>\n",
       "      <td>0.3</td>\n",
       "      <td>1</td>\n",
       "    </tr>\n",
       "    <tr>\n",
       "      <th>7</th>\n",
       "      <td>6.7</td>\n",
       "      <td>3.1</td>\n",
       "      <td>4.7</td>\n",
       "      <td>1.5</td>\n",
       "      <td>2</td>\n",
       "    </tr>\n",
       "    <tr>\n",
       "      <th>8</th>\n",
       "      <td>6.8</td>\n",
       "      <td>2.8</td>\n",
       "      <td>4.8</td>\n",
       "      <td>1.4</td>\n",
       "      <td>2</td>\n",
       "    </tr>\n",
       "    <tr>\n",
       "      <th>9</th>\n",
       "      <td>6.1</td>\n",
       "      <td>2.8</td>\n",
       "      <td>4.0</td>\n",
       "      <td>1.3</td>\n",
       "      <td>2</td>\n",
       "    </tr>\n",
       "  </tbody>\n",
       "</table>\n",
       "</div>"
      ],
      "text/plain": [
       "   sepal_length  sepal_width  petal_length  petal_width species\n",
       "0           5.8          2.8           5.1          2.4       3\n",
       "1           6.0          2.2           4.0          1.0       2\n",
       "2           5.5          4.2           1.4          0.2       1\n",
       "3           7.3          2.9           6.3          1.8       3\n",
       "4           5.0          3.4           NaN          0.2       1\n",
       "5           6.3          3.3           6.0          2.5       3\n",
       "6           NaN          3.5           1.3          0.3       1\n",
       "7           6.7          3.1           4.7          1.5       2\n",
       "8           6.8          2.8           4.8          1.4       2\n",
       "9           6.1          2.8           4.0          1.3       2"
      ]
     },
     "execution_count": 13,
     "metadata": {},
     "output_type": "execute_result"
    }
   ],
   "source": [
    "df.head(10)"
   ]
  },
  {
   "cell_type": "code",
   "execution_count": 14,
   "id": "b6f12548-d501-41b8-8df0-0b5db9e8f89d",
   "metadata": {},
   "outputs": [
    {
     "data": {
      "text/plain": [
       "sepal_length    float64\n",
       "sepal_width     float64\n",
       "petal_length    float64\n",
       "petal_width     float64\n",
       "species           int64\n",
       "dtype: object"
      ]
     },
     "execution_count": 14,
     "metadata": {},
     "output_type": "execute_result"
    }
   ],
   "source": [
    "df['species'] = pd.to_numeric(df['species'], errors='coerce')\n",
    "df.dtypes"
   ]
  },
  {
   "cell_type": "code",
   "execution_count": 15,
   "id": "2f68d38d-cfed-4dbc-a073-a74de620bae1",
   "metadata": {},
   "outputs": [
    {
     "data": {
      "image/png": "[encoded data removed]",
      "text/plain": [
       "<Figure size 2000x2000 with 5 Axes>"
      ]
     },
     "metadata": {},
     "output_type": "display_data"
    }
   ],
   "source": [
    "plt.rcParams['figure.figsize']=(20,20)\n",
    "#sets the figure-size of figure (figure.figsize) runtime configuration parameter (rcParams) of matplotlib (plt) as 20x20 (inches)\n",
    "df.plot(kind='hist', bins=15, subplots=True, layout=(5,1))\n",
    "#plots a histogram made of 15 bins(intervals) and the plot will have subplots(for each colunmn) and the layout will be 3x2\n",
    "plt.show()"
   ]
  },
  {
   "cell_type": "code",
   "execution_count": 16,
   "id": "507d9b60-8b33-4c1e-826f-40ef804b3f92",
   "metadata": {},
   "outputs": [],
   "source": [
    "correlation=df.corr()"
   ]
  },
  {
   "cell_type": "code",
   "execution_count": 17,
   "id": "9f4e5612-b346-4c86-add9-c201d1438d70",
   "metadata": {},
   "outputs": [
    {
     "data": {
      "text/plain": [
       "sepal_width    -0.415346\n",
       "sepal_length    0.779586\n",
       "petal_length    0.951477\n",
       "petal_width     0.955973\n",
       "species         1.000000\n",
       "Name: species, dtype: float64"
      ]
     },
     "execution_count": 17,
     "metadata": {},
     "output_type": "execute_result"
    }
   ],
   "source": [
    "correlation['species'].sort_values(ascending=True)"
   ]
  },
  {
   "cell_type": "code",
   "execution_count": 18,
   "id": "64ca99e4-fa71-4da0-900e-555362276f8f",
   "metadata": {},
   "outputs": [
    {
     "data": {
      "image/png": "[encoded data removed]",
      "text/plain": [
       "<Figure size 500x400 with 2 Axes>"
      ]
     },
     "metadata": {},
     "output_type": "display_data"
    }
   ],
   "source": [
    "plt.figure(figsize=(5,4))\n",
    "plt.title('Correlation of Attributes with each other')\n",
    "a = sns.heatmap(correlation, square=True, annot=True, fmt='.2f', linecolor='white')\n",
    "#fmt sets the format of annotations to 2 decimal places and linecolor defines the color of the line separating 2 cells "
   ]
  },
  {
   "cell_type": "code",
   "execution_count": 19,
   "id": "866ed192-6f11-4e0f-8522-61ba786bb2f9",
   "metadata": {},
   "outputs": [],
   "source": [
    "features = df.drop(['species'], axis=1)\n",
    "# 'axis=1' indicate that the dropping shoul be of a column 'axis=0' indicates that of a row\n",
    "target = df['species']"
   ]
  },
  {
   "cell_type": "code",
   "execution_count": 20,
   "id": "f6f59ed7-08ef-4b55-93c6-b243c37cbe35",
   "metadata": {},
   "outputs": [
    {
     "data": {
      "text/html": [
       "<div>\n",
       "<style scoped>\n",
       "    .dataframe tbody tr th:only-of-type {\n",
       "        vertical-align: middle;\n",
       "    }\n",
       "\n",
       "    .dataframe tbody tr th {\n",
       "        vertical-align: top;\n",
       "    }\n",
       "\n",
       "    .dataframe thead th {\n",
       "        text-align: right;\n",
       "    }\n",
       "</style>\n",
       "<table border=\"1\" class=\"dataframe\">\n",
       "  <thead>\n",
       "    <tr style=\"text-align: right;\">\n",
       "      <th></th>\n",
       "      <th>sepal_length</th>\n",
       "      <th>sepal_width</th>\n",
       "      <th>petal_length</th>\n",
       "      <th>petal_width</th>\n",
       "    </tr>\n",
       "  </thead>\n",
       "  <tbody>\n",
       "    <tr>\n",
       "      <th>0</th>\n",
       "      <td>5.8</td>\n",
       "      <td>2.8</td>\n",
       "      <td>5.1</td>\n",
       "      <td>2.4</td>\n",
       "    </tr>\n",
       "    <tr>\n",
       "      <th>1</th>\n",
       "      <td>6.0</td>\n",
       "      <td>2.2</td>\n",
       "      <td>4.0</td>\n",
       "      <td>1.0</td>\n",
       "    </tr>\n",
       "    <tr>\n",
       "      <th>2</th>\n",
       "      <td>5.5</td>\n",
       "      <td>4.2</td>\n",
       "      <td>1.4</td>\n",
       "      <td>0.2</td>\n",
       "    </tr>\n",
       "    <tr>\n",
       "      <th>3</th>\n",
       "      <td>7.3</td>\n",
       "      <td>2.9</td>\n",
       "      <td>6.3</td>\n",
       "      <td>1.8</td>\n",
       "    </tr>\n",
       "    <tr>\n",
       "      <th>4</th>\n",
       "      <td>5.0</td>\n",
       "      <td>3.4</td>\n",
       "      <td>NaN</td>\n",
       "      <td>0.2</td>\n",
       "    </tr>\n",
       "  </tbody>\n",
       "</table>\n",
       "</div>"
      ],
      "text/plain": [
       "   sepal_length  sepal_width  petal_length  petal_width\n",
       "0           5.8          2.8           5.1          2.4\n",
       "1           6.0          2.2           4.0          1.0\n",
       "2           5.5          4.2           1.4          0.2\n",
       "3           7.3          2.9           6.3          1.8\n",
       "4           5.0          3.4           NaN          0.2"
      ]
     },
     "execution_count": 20,
     "metadata": {},
     "output_type": "execute_result"
    }
   ],
   "source": [
    "features.head()"
   ]
  },
  {
   "cell_type": "code",
   "execution_count": 21,
   "id": "f31284a3-2213-4464-8c64-aea25356b1dd",
   "metadata": {},
   "outputs": [
    {
     "data": {
      "text/plain": [
       "0    3\n",
       "1    2\n",
       "2    1\n",
       "3    3\n",
       "4    1\n",
       "Name: species, dtype: int64"
      ]
     },
     "execution_count": 21,
     "metadata": {},
     "output_type": "execute_result"
    }
   ],
   "source": [
    "target.head()"
   ]
  },
  {
   "cell_type": "code",
   "execution_count": 22,
   "id": "66264e1d-6267-410b-9fa3-ff093aaca6bc",
   "metadata": {},
   "outputs": [],
   "source": [
    "from sklearn.model_selection import train_test_split\n",
    "features_train, features_test, target_train, target_test = train_test_split(features, target, test_size=0.2, random_state=0)"
   ]
  },
  {
   "cell_type": "code",
   "execution_count": 23,
   "id": "a36e3e4a-3307-46b3-a686-1f6c33ae70bf",
   "metadata": {},
   "outputs": [
    {
     "data": {
      "text/plain": [
       "((120, 4), (30, 4), (120,), (30,))"
      ]
     },
     "execution_count": 23,
     "metadata": {},
     "output_type": "execute_result"
    }
   ],
   "source": [
    "features_train.shape, features_test.shape, target_train.shape, target_test.shape"
   ]
  },
  {
   "cell_type": "code",
   "execution_count": 24,
   "id": "058ed769-d532-40ac-b679-f670192dc1c4",
   "metadata": {},
   "outputs": [
    {
     "data": {
      "text/plain": [
       "sepal_length    float64\n",
       "sepal_width     float64\n",
       "petal_length    float64\n",
       "petal_width     float64\n",
       "dtype: object"
      ]
     },
     "execution_count": 24,
     "metadata": {},
     "output_type": "execute_result"
    }
   ],
   "source": [
    "features_train.dtypes"
   ]
  },
  {
   "cell_type": "code",
   "execution_count": 25,
   "id": "0429b982-84b6-48f9-88cd-49baf6b02575",
   "metadata": {},
   "outputs": [
    {
     "data": {
      "text/plain": [
       "sepal_length    4\n",
       "sepal_width     2\n",
       "petal_length    5\n",
       "petal_width     3\n",
       "dtype: int64"
      ]
     },
     "execution_count": 25,
     "metadata": {},
     "output_type": "execute_result"
    }
   ],
   "source": [
    "features_train.isnull().sum()"
   ]
  },
  {
   "cell_type": "code",
   "execution_count": 26,
   "id": "5cb0e85c-1233-4a53-a948-0ede43d8895f",
   "metadata": {},
   "outputs": [
    {
     "data": {
      "text/plain": [
       "sepal_length    0\n",
       "sepal_width     0\n",
       "petal_length    0\n",
       "petal_width     1\n",
       "dtype: int64"
      ]
     },
     "execution_count": 26,
     "metadata": {},
     "output_type": "execute_result"
    }
   ],
   "source": [
    "features_test.isnull().sum()"
   ]
  },
  {
   "cell_type": "code",
   "execution_count": 27,
   "id": "15b24078-a4a3-46ca-9259-79cf5887e2d2",
   "metadata": {},
   "outputs": [
    {
     "name": "stdout",
     "output_type": "stream",
     "text": [
      "sepal_length 0.0333\n",
      "sepal_width 0.0167\n",
      "petal_length 0.0417\n",
      "petal_width 0.025\n"
     ]
    }
   ],
   "source": [
    "#percentage of null values in each column\n",
    "for col in features_train.columns:\n",
    "    if features_train[col].isnull().sum()!=0:\n",
    "        print(col, round(features_train[col].isnull().mean(),4))"
   ]
  },
  {
   "cell_type": "code",
   "execution_count": 28,
   "id": "aca90ad5-2b43-4cda-8826-62980b46b3f1",
   "metadata": {},
   "outputs": [
    {
     "name": "stdout",
     "output_type": "stream",
     "text": [
      "petal_width 0.0333\n"
     ]
    }
   ],
   "source": [
    "#percentage of null values in each column\n",
    "for col in features_test.columns:\n",
    "    if features_test[col].isnull().sum()!=0:\n",
    "        print(col, round(features_test[col].isnull().mean(),4))"
   ]
  },
  {
   "cell_type": "code",
   "execution_count": 29,
   "id": "4b7203d1-3ac4-48df-9b04-1767981fb6d2",
   "metadata": {},
   "outputs": [],
   "source": [
    "for df1 in [features_train, features_test]:\n",
    "    for col in df1.columns:\n",
    "        df1[col].fillna(df1[col].median(), inplace=True)"
   ]
  },
  {
   "cell_type": "code",
   "execution_count": 30,
   "id": "c5d8cf38-446e-49e0-9fa2-44f4cdca85c9",
   "metadata": {},
   "outputs": [
    {
     "data": {
      "text/plain": [
       "(sepal_length    0\n",
       " sepal_width     0\n",
       " petal_length    0\n",
       " petal_width     0\n",
       " dtype: int64,\n",
       " sepal_length    0\n",
       " sepal_width     0\n",
       " petal_length    0\n",
       " petal_width     0\n",
       " dtype: int64)"
      ]
     },
     "execution_count": 30,
     "metadata": {},
     "output_type": "execute_result"
    }
   ],
   "source": [
    "features_train.isnull().sum(), features_test.isnull().sum()"
   ]
  },
  {
   "cell_type": "code",
   "execution_count": 31,
   "id": "f75dc4c5-5d0f-4064-8523-4ed91add6561",
   "metadata": {},
   "outputs": [
    {
     "name": "stdout",
     "output_type": "stream",
     "text": [
      "Index(['sepal_length', 'sepal_width', 'petal_length', 'petal_width'], dtype='object')\n"
     ]
    }
   ],
   "source": [
    "cols = features_test.columns\n",
    "print(cols)"
   ]
  },
  {
   "cell_type": "code",
   "execution_count": 32,
   "id": "76ef41b9-be72-4a30-a127-39a7eec5bb51",
   "metadata": {},
   "outputs": [],
   "source": [
    "from sklearn.preprocessing import StandardScaler\n",
    "scaler = StandardScaler()\n",
    "\n",
    "features_train = scaler.fit_transform(features_train)\n",
    "features_test = scaler.transform(features_test)"
   ]
  },
  {
   "cell_type": "code",
   "execution_count": 33,
   "id": "369251d6-af02-4304-9224-7e01e3f89920",
   "metadata": {},
   "outputs": [],
   "source": [
    "features_train = pd.DataFrame(features_train, columns = [cols])\n",
    "features_test = pd.DataFrame(features_test, columns=[cols])"
   ]
  },
  {
   "cell_type": "code",
   "execution_count": 34,
   "id": "9cf86243-d1fc-4eaf-915c-1223bb4d2ab3",
   "metadata": {},
   "outputs": [
    {
     "data": {
      "text/html": [
       "<div>\n",
       "<style scoped>\n",
       "    .dataframe tbody tr th:only-of-type {\n",
       "        vertical-align: middle;\n",
       "    }\n",
       "\n",
       "    .dataframe tbody tr th {\n",
       "        vertical-align: top;\n",
       "    }\n",
       "\n",
       "    .dataframe thead tr th {\n",
       "        text-align: left;\n",
       "    }\n",
       "</style>\n",
       "<table border=\"1\" class=\"dataframe\">\n",
       "  <thead>\n",
       "    <tr>\n",
       "      <th></th>\n",
       "      <th>sepal_length</th>\n",
       "      <th>sepal_width</th>\n",
       "      <th>petal_length</th>\n",
       "      <th>petal_width</th>\n",
       "    </tr>\n",
       "  </thead>\n",
       "  <tbody>\n",
       "    <tr>\n",
       "      <th>0</th>\n",
       "      <td>-0.059585</td>\n",
       "      <td>-0.808422</td>\n",
       "      <td>0.794941</td>\n",
       "      <td>0.938712</td>\n",
       "    </tr>\n",
       "    <tr>\n",
       "      <th>1</th>\n",
       "      <td>1.320281</td>\n",
       "      <td>0.377527</td>\n",
       "      <td>1.143091</td>\n",
       "      <td>1.475758</td>\n",
       "    </tr>\n",
       "    <tr>\n",
       "      <th>2</th>\n",
       "      <td>0.442184</td>\n",
       "      <td>-0.334042</td>\n",
       "      <td>0.330742</td>\n",
       "      <td>0.133143</td>\n",
       "    </tr>\n",
       "    <tr>\n",
       "      <th>3</th>\n",
       "      <td>-0.185028</td>\n",
       "      <td>-0.571232</td>\n",
       "      <td>0.214692</td>\n",
       "      <td>0.133143</td>\n",
       "    </tr>\n",
       "    <tr>\n",
       "      <th>4</th>\n",
       "      <td>0.567627</td>\n",
       "      <td>-1.282802</td>\n",
       "      <td>0.678891</td>\n",
       "      <td>0.401666</td>\n",
       "    </tr>\n",
       "  </tbody>\n",
       "</table>\n",
       "</div>"
      ],
      "text/plain": [
       "  sepal_length sepal_width petal_length petal_width\n",
       "0    -0.059585   -0.808422     0.794941    0.938712\n",
       "1     1.320281    0.377527     1.143091    1.475758\n",
       "2     0.442184   -0.334042     0.330742    0.133143\n",
       "3    -0.185028   -0.571232     0.214692    0.133143\n",
       "4     0.567627   -1.282802     0.678891    0.401666"
      ]
     },
     "execution_count": 34,
     "metadata": {},
     "output_type": "execute_result"
    }
   ],
   "source": [
    "features_train.head()"
   ]
  },
  {
   "cell_type": "code",
   "execution_count": 35,
   "id": "bfe3b444-6715-4fa9-9b8b-8338e94098f2",
   "metadata": {},
   "outputs": [
    {
     "data": {
      "text/html": [
       "<div>\n",
       "<style scoped>\n",
       "    .dataframe tbody tr th:only-of-type {\n",
       "        vertical-align: middle;\n",
       "    }\n",
       "\n",
       "    .dataframe tbody tr th {\n",
       "        vertical-align: top;\n",
       "    }\n",
       "\n",
       "    .dataframe thead tr th {\n",
       "        text-align: left;\n",
       "    }\n",
       "</style>\n",
       "<table border=\"1\" class=\"dataframe\">\n",
       "  <thead>\n",
       "    <tr>\n",
       "      <th></th>\n",
       "      <th>sepal_length</th>\n",
       "      <th>sepal_width</th>\n",
       "      <th>petal_length</th>\n",
       "      <th>petal_width</th>\n",
       "    </tr>\n",
       "  </thead>\n",
       "  <tbody>\n",
       "    <tr>\n",
       "      <th>0</th>\n",
       "      <td>2.323820</td>\n",
       "      <td>-1.045612</td>\n",
       "      <td>1.839390</td>\n",
       "      <td>1.475758</td>\n",
       "    </tr>\n",
       "    <tr>\n",
       "      <th>1</th>\n",
       "      <td>-0.059585</td>\n",
       "      <td>-0.808422</td>\n",
       "      <td>0.794941</td>\n",
       "      <td>0.938712</td>\n",
       "    </tr>\n",
       "    <tr>\n",
       "      <th>2</th>\n",
       "      <td>0.316742</td>\n",
       "      <td>-0.096853</td>\n",
       "      <td>0.678891</td>\n",
       "      <td>0.804450</td>\n",
       "    </tr>\n",
       "    <tr>\n",
       "      <th>3</th>\n",
       "      <td>-0.812240</td>\n",
       "      <td>0.851907</td>\n",
       "      <td>-1.351980</td>\n",
       "      <td>-1.343734</td>\n",
       "    </tr>\n",
       "    <tr>\n",
       "      <th>4</th>\n",
       "      <td>1.069396</td>\n",
       "      <td>0.140337</td>\n",
       "      <td>0.562842</td>\n",
       "      <td>0.401666</td>\n",
       "    </tr>\n",
       "  </tbody>\n",
       "</table>\n",
       "</div>"
      ],
      "text/plain": [
       "  sepal_length sepal_width petal_length petal_width\n",
       "0     2.323820   -1.045612     1.839390    1.475758\n",
       "1    -0.059585   -0.808422     0.794941    0.938712\n",
       "2     0.316742   -0.096853     0.678891    0.804450\n",
       "3    -0.812240    0.851907    -1.351980   -1.343734\n",
       "4     1.069396    0.140337     0.562842    0.401666"
      ]
     },
     "execution_count": 35,
     "metadata": {},
     "output_type": "execute_result"
    }
   ],
   "source": [
    "features_test.head()"
   ]
  },
  {
   "cell_type": "code",
   "execution_count": 36,
   "id": "001b07f0-4915-419e-96dc-599ca33a44b9",
   "metadata": {},
   "outputs": [
    {
     "data": {
      "text/html": [
       "<style>#sk-container-id-1 {color: black;}#sk-container-id-1 pre{padding: 0;}#sk-container-id-1 div.sk-toggleable {background-color: white;}#sk-container-id-1 label.sk-toggleable__label {cursor: pointer;display: block;width: 100%;margin-bottom: 0;padding: 0.3em;box-sizing: border-box;text-align: center;}#sk-container-id-1 label.sk-toggleable__label-arrow:before {content: \"▸\";float: left;margin-right: 0.25em;color: #696969;}#sk-container-id-1 label.sk-toggleable__label-arrow:hover:before {color: black;}#sk-container-id-1 div.sk-estimator:hover label.sk-toggleable__label-arrow:before {color: black;}#sk-container-id-1 div.sk-toggleable__content {max-height: 0;max-width: 0;overflow: hidden;text-align: left;background-color: #f0f8ff;}#sk-container-id-1 div.sk-toggleable__content pre {margin: 0.2em;color: black;border-radius: 0.25em;background-color: #f0f8ff;}#sk-container-id-1 input.sk-toggleable__control:checked~div.sk-toggleable__content {max-height: 200px;max-width: 100%;overflow: auto;}#sk-container-id-1 input.sk-toggleable__control:checked~label.sk-toggleable__label-arrow:before {content: \"▾\";}#sk-container-id-1 div.sk-estimator input.sk-toggleable__control:checked~label.sk-toggleable__label {background-color: #d4ebff;}#sk-container-id-1 div.sk-label input.sk-toggleable__control:checked~label.sk-toggleable__label {background-color: #d4ebff;}#sk-container-id-1 input.sk-hidden--visually {border: 0;clip: rect(1px 1px 1px 1px);clip: rect(1px, 1px, 1px, 1px);height: 1px;margin: -1px;overflow: hidden;padding: 0;position: absolute;width: 1px;}#sk-container-id-1 div.sk-estimator {font-family: monospace;background-color: #f0f8ff;border: 1px dotted black;border-radius: 0.25em;box-sizing: border-box;margin-bottom: 0.5em;}#sk-container-id-1 div.sk-estimator:hover {background-color: #d4ebff;}#sk-container-id-1 div.sk-parallel-item::after {content: \"\";width: 100%;border-bottom: 1px solid gray;flex-grow: 1;}#sk-container-id-1 div.sk-label:hover label.sk-toggleable__label {background-color: #d4ebff;}#sk-container-id-1 div.sk-serial::before {content: \"\";position: absolute;border-left: 1px solid gray;box-sizing: border-box;top: 0;bottom: 0;left: 50%;z-index: 0;}#sk-container-id-1 div.sk-serial {display: flex;flex-direction: column;align-items: center;background-color: white;padding-right: 0.2em;padding-left: 0.2em;position: relative;}#sk-container-id-1 div.sk-item {position: relative;z-index: 1;}#sk-container-id-1 div.sk-parallel {display: flex;align-items: stretch;justify-content: center;background-color: white;position: relative;}#sk-container-id-1 div.sk-item::before, #sk-container-id-1 div.sk-parallel-item::before {content: \"\";position: absolute;border-left: 1px solid gray;box-sizing: border-box;top: 0;bottom: 0;left: 50%;z-index: -1;}#sk-container-id-1 div.sk-parallel-item {display: flex;flex-direction: column;z-index: 1;position: relative;background-color: white;}#sk-container-id-1 div.sk-parallel-item:first-child::after {align-self: flex-end;width: 50%;}#sk-container-id-1 div.sk-parallel-item:last-child::after {align-self: flex-start;width: 50%;}#sk-container-id-1 div.sk-parallel-item:only-child::after {width: 0;}#sk-container-id-1 div.sk-dashed-wrapped {border: 1px dashed gray;margin: 0 0.4em 0.5em 0.4em;box-sizing: border-box;padding-bottom: 0.4em;background-color: white;}#sk-container-id-1 div.sk-label label {font-family: monospace;font-weight: bold;display: inline-block;line-height: 1.2em;}#sk-container-id-1 div.sk-label-container {text-align: center;}#sk-container-id-1 div.sk-container {/* jupyter's `normalize.less` sets `[hidden] { display: none; }` but bootstrap.min.css set `[hidden] { display: none !important; }` so we also need the `!important` here to be able to override the default hidden behavior on the sphinx rendered scikit-learn.org. See: https://github.com/scikit-learn/scikit-learn/issues/21755 */display: inline-block !important;position: relative;}#sk-container-id-1 div.sk-text-repr-fallback {display: none;}</style><div id=\"sk-container-id-1\" class=\"sk-top-container\"><div class=\"sk-text-repr-fallback\"><pre>KNeighborsClassifier(n_neighbors=3)</pre><b>In a Jupyter environment, please rerun this cell to show the HTML representation or trust the notebook. <br />On GitHub, the HTML representation is unable to render, please try loading this page with nbviewer.org.</b></div><div class=\"sk-container\" hidden><div class=\"sk-item\"><div class=\"sk-estimator sk-toggleable\"><input class=\"sk-toggleable__control sk-hidden--visually\" id=\"sk-estimator-id-1\" type=\"checkbox\" checked><label for=\"sk-estimator-id-1\" class=\"sk-toggleable__label sk-toggleable__label-arrow\">KNeighborsClassifier</label><div class=\"sk-toggleable__content\"><pre>KNeighborsClassifier(n_neighbors=3)</pre></div></div></div></div></div>"
      ],
      "text/plain": [
       "KNeighborsClassifier(n_neighbors=3)"
      ]
     },
     "execution_count": 36,
     "metadata": {},
     "output_type": "execute_result"
    }
   ],
   "source": [
    "from sklearn.neighbors import KNeighborsClassifier\n",
    "KNN = KNeighborsClassifier(n_neighbors = 3)\n",
    "KNN.fit(features_train, target_train)"
   ]
  },
  {
   "cell_type": "code",
   "execution_count": 37,
   "id": "12fdbdf0-e6d5-410c-9189-35784d67671c",
   "metadata": {},
   "outputs": [
    {
     "data": {
      "text/plain": [
       "array([3, 3, 3, 1, 2, 1, 3, 3, 3, 2, 1, 3, 1, 3, 2, 3, 1, 3, 2, 2, 3, 2,\n",
       "       2, 2, 3, 1, 1, 1, 1, 1], dtype=int64)"
      ]
     },
     "execution_count": 37,
     "metadata": {},
     "output_type": "execute_result"
    }
   ],
   "source": [
    "predict_test_main = KNN.predict(features_test)\n",
    "predict_test_main"
   ]
  },
  {
   "cell_type": "code",
   "execution_count": 38,
   "id": "3c70e731-9f2c-4a53-a2a0-fea30e807147",
   "metadata": {},
   "outputs": [
    {
     "data": {
      "text/plain": [
       "array([0., 0., 0., 1., 0., 1., 0., 0., 0., 0., 1., 0., 1., 0., 0., 0., 1.,\n",
       "       0., 0., 0., 0., 0., 0., 0., 0., 1., 1., 1., 1., 1.])"
      ]
     },
     "execution_count": 38,
     "metadata": {},
     "output_type": "execute_result"
    }
   ],
   "source": [
    "KNN.predict_proba(features_test)[:,0]"
   ]
  },
  {
   "cell_type": "code",
   "execution_count": 39,
   "id": "54b090dd-558a-4e78-aa21-dfdc3842adb3",
   "metadata": {},
   "outputs": [
    {
     "data": {
      "text/plain": [
       "array([0.        , 0.        , 0.        , 0.        , 1.        ,\n",
       "       0.        , 0.        , 0.        , 0.33333333, 1.        ,\n",
       "       0.        , 0.        , 0.        , 0.        , 1.        ,\n",
       "       0.        , 0.        , 0.        , 1.        , 1.        ,\n",
       "       0.        , 1.        , 0.66666667, 1.        , 0.        ,\n",
       "       0.        , 0.        , 0.        , 0.        , 0.        ])"
      ]
     },
     "execution_count": 39,
     "metadata": {},
     "output_type": "execute_result"
    }
   ],
   "source": [
    "KNN.predict_proba(features_test)[:,1]"
   ]
  },
  {
   "cell_type": "code",
   "execution_count": 40,
   "id": "fe6cc7ef-8d66-4b24-ba9a-1760c102410c",
   "metadata": {},
   "outputs": [
    {
     "data": {
      "text/plain": [
       "array([1.        , 1.        , 1.        , 0.        , 0.        ,\n",
       "       0.        , 1.        , 1.        , 0.66666667, 0.        ,\n",
       "       0.        , 1.        , 0.        , 1.        , 0.        ,\n",
       "       1.        , 0.        , 1.        , 0.        , 0.        ,\n",
       "       1.        , 0.        , 0.33333333, 0.        , 1.        ,\n",
       "       0.        , 0.        , 0.        , 0.        , 0.        ])"
      ]
     },
     "execution_count": 40,
     "metadata": {},
     "output_type": "execute_result"
    }
   ],
   "source": [
    "KNN.predict_proba(features_test)[:,2]"
   ]
  },
  {
   "cell_type": "code",
   "execution_count": 41,
   "id": "5c2ad7df-72ac-43fe-94d7-bdce588871ab",
   "metadata": {},
   "outputs": [
    {
     "name": "stdout",
     "output_type": "stream",
     "text": [
      "Model Accuracy is 0.9333\n"
     ]
    }
   ],
   "source": [
    "from sklearn.metrics import accuracy_score\n",
    "accu_3 = accuracy_score(predict_test_main, target_test)\n",
    "print('Model Accuracy is {0:0.4f}'.format(accu_3))"
   ]
  },
  {
   "cell_type": "code",
   "execution_count": 42,
   "id": "7c705f16-055a-4bb4-855e-a6b6fb83e08a",
   "metadata": {},
   "outputs": [
    {
     "name": "stdout",
     "output_type": "stream",
     "text": [
      "Model Accuracy with Training Set is 0.9500\n"
     ]
    }
   ],
   "source": [
    "predict_train = KNN.predict(features_train)\n",
    "print('Model Accuracy with Training Set is {0:0.4f}'.format(accuracy_score(predict_train, target_train)))"
   ]
  },
  {
   "cell_type": "code",
   "execution_count": 43,
   "id": "6875421e-c5cb-4616-b27a-32d7015cb266",
   "metadata": {},
   "outputs": [
    {
     "name": "stdout",
     "output_type": "stream",
     "text": [
      "Model Accuracy with K=4 is 0.9000\n"
     ]
    }
   ],
   "source": [
    "KNN = KNeighborsClassifier(n_neighbors = 4)\n",
    "KNN.fit(features_train, target_train)\n",
    "predict_test = KNN.predict(features_test)\n",
    "accu_4 = accuracy_score(predict_test, target_test)\n",
    "print('Model Accuracy with K=4 is {0:0.4f}'.format(accu_4))"
   ]
  },
  {
   "cell_type": "code",
   "execution_count": 44,
   "id": "708cba73-9fa0-4e3e-9794-a67f793516bc",
   "metadata": {},
   "outputs": [
    {
     "name": "stdout",
     "output_type": "stream",
     "text": [
      "Model Accuracy with K=5 is 0.9333\n"
     ]
    }
   ],
   "source": [
    "KNN = KNeighborsClassifier(n_neighbors = 5)\n",
    "KNN.fit(features_train, target_train)\n",
    "predict_test = KNN.predict(features_test)\n",
    "accu_5 = accuracy_score(predict_test, target_test)\n",
    "print('Model Accuracy with K=5 is {0:0.4f}'.format(accu_5))"
   ]
  },
  {
   "cell_type": "code",
   "execution_count": 45,
   "id": "89d716df-3ec1-48e1-a818-84db2902f508",
   "metadata": {},
   "outputs": [
    {
     "name": "stdout",
     "output_type": "stream",
     "text": [
      "Model Accuracy with K=6 is 0.9333\n"
     ]
    }
   ],
   "source": [
    "KNN = KNeighborsClassifier(n_neighbors = 6)\n",
    "KNN.fit(features_train, target_train)\n",
    "predict_test = KNN.predict(features_test)\n",
    "accu_6 = accuracy_score(predict_test, target_test)\n",
    "print('Model Accuracy with K=6 is {0:0.4f}'.format(accu_6))"
   ]
  },
  {
   "cell_type": "code",
   "execution_count": 46,
   "id": "c8616e2f-c278-48ff-9a15-43b077a40d7f",
   "metadata": {},
   "outputs": [
    {
     "name": "stdout",
     "output_type": "stream",
     "text": [
      "Model Accuracy with K=7 is 0.9000\n"
     ]
    }
   ],
   "source": [
    "KNN = KNeighborsClassifier(n_neighbors = 7)\n",
    "KNN.fit(features_train, target_train)\n",
    "predict_test = KNN.predict(features_test)\n",
    "accu_7 = accuracy_score(predict_test, target_test)\n",
    "print('Model Accuracy with K=7 is {0:0.4f}'.format(accu_7))"
   ]
  },
  {
   "cell_type": "code",
   "execution_count": 47,
   "id": "e9520c26-6347-4acc-98eb-c4e9d158d670",
   "metadata": {},
   "outputs": [
    {
     "name": "stdout",
     "output_type": "stream",
     "text": [
      "Model Accuracy with K=8 is 0.9333\n"
     ]
    }
   ],
   "source": [
    "KNN = KNeighborsClassifier(n_neighbors = 8)\n",
    "KNN.fit(features_train, target_train)\n",
    "predict_test = KNN.predict(features_test)\n",
    "accu_8 = accuracy_score(predict_test_main, target_test)\n",
    "print('Model Accuracy with K=8 is {0:0.4f}'.format(accu_8))"
   ]
  },
  {
   "cell_type": "code",
   "execution_count": 48,
   "id": "787f1f2e-6121-431e-9363-3877ef491111",
   "metadata": {},
   "outputs": [
    {
     "name": "stdout",
     "output_type": "stream",
     "text": [
      "Model Accuracy with K=4 is 0.9333\n"
     ]
    }
   ],
   "source": [
    "KNN = KNeighborsClassifier(n_neighbors = 9)\n",
    "KNN.fit(features_train, target_train)\n",
    "predict_test = KNN.predict(features_test)\n",
    "accu_9 = accuracy_score(predict_test, target_test)\n",
    "print('Model Accuracy with K=4 is {0:0.4f}'.format(accu_9))"
   ]
  },
  {
   "cell_type": "code",
   "execution_count": 49,
   "id": "e2d82945-bd65-41cd-8049-e193ef8431ec",
   "metadata": {},
   "outputs": [
    {
     "name": "stdout",
     "output_type": "stream",
     "text": [
      "Model Accuracy with K=10 is 0.9333\n"
     ]
    }
   ],
   "source": [
    "KNN = KNeighborsClassifier(n_neighbors = 10)\n",
    "KNN.fit(features_train, target_train)\n",
    "predict_test = KNN.predict(features_test)\n",
    "accu_10 = accuracy_score(predict_test, target_test)\n",
    "print('Model Accuracy with K=10 is {0:0.4f}'.format(accu_10))"
   ]
  },
  {
   "cell_type": "code",
   "execution_count": 50,
   "id": "51d696a8-2ec0-41e7-a10f-8ed694cad1d0",
   "metadata": {},
   "outputs": [
    {
     "data": {
      "image/png": "[encoded data removed]",
      "text/plain": [
       "<Figure size 1000x400 with 1 Axes>"
      ]
     },
     "metadata": {},
     "output_type": "display_data"
    }
   ],
   "source": [
    "# Step 1: Prepare Data\n",
    "x = [3, 4, 5, 6, 7, 8, 9, 10]  # x-axis values\n",
    "y = [accu_3, accu_4, accu_5, accu_6, accu_7, accu_8, accu_9, accu_10]  # y-axis values (squared values for this example)\n",
    "plt.figure(figsize = (10, 4))\n",
    "# Step 2: Create the Plot\n",
    "plt.plot(x, y, marker='o', linestyle='-')\n",
    "\n",
    "# Step 3: Customize the Plot\n",
    "plt.xlabel('Value of K')  # Add x-axis label\n",
    "plt.ylabel('Model Accuracy')  # Add y-axis label\n",
    "plt.title('K vs Accuracy')  # Add title\n",
    "plt.grid(True)  # Show grid\n",
    "\n",
    "# Step 4: Display the Plot\n",
    "plt.show()\n"
   ]
  },
  {
   "cell_type": "code",
   "execution_count": 51,
   "id": "a938de3d-b31d-47df-9b9b-8d85d2021f83",
   "metadata": {
    "scrolled": true
   },
   "outputs": [
    {
     "name": "stdout",
     "output_type": "stream",
     "text": [
      "[[10  0  0]\n",
      " [ 0  7  1]\n",
      " [ 0  1 11]]\n"
     ]
    }
   ],
   "source": [
    "from sklearn.metrics import confusion_matrix\n",
    "\n",
    "CM = confusion_matrix(predict_test_main, target_test)\n",
    "\n",
    "print(CM)"
   ]
  },
  {
   "cell_type": "markdown",
   "id": "b90d2471-8495-4d1c-93dd-2471af66184f",
   "metadata": {},
   "source": [
    "# Confusion Matrix\n",
    "![3x3 Confusion Matrix](.\\confusion_matrix.png)"
   ]
  },
  {
   "cell_type": "code",
   "execution_count": 52,
   "id": "c9b17e75-8bbf-455c-902e-bb1caa252e38",
   "metadata": {},
   "outputs": [
    {
     "name": "stdout",
     "output_type": "stream",
     "text": [
      "TP_1:  10\n",
      "TP_2:  7\n",
      "TP_3:  11\n",
      "\n",
      "FP_2_1:  0\n",
      "FP_3_1:  0\n",
      "\n",
      "FP_1_2:  0\n",
      "FP_3_2:  1\n",
      "\n",
      "FP_1_3:  0\n",
      "FP2_3:  1\n"
     ]
    }
   ],
   "source": [
    "# Correct predictions\n",
    "print(\"TP_1: \", CM[0,0])\n",
    "print(\"TP_2: \", CM[1,1])\n",
    "print(\"TP_3: \", CM[2,2])\n",
    "\n",
    "# Was 1 (Iris Setosa) but predicted otherwise\n",
    "print(\"\\nFP_2_1: \", CM[0,1])\n",
    "print(\"FP_3_1: \", CM[0,2])\n",
    "\n",
    "# Was 2 (Iris Versicolor) but predicted otherwise\n",
    "print(\"\\nFP_1_2: \", CM[1,0])\n",
    "print(\"FP_3_2: \", CM[1,2])\n",
    "\n",
    "# Was 3 (Iris Virginica) but predicted otherwise\n",
    "print(\"\\nFP_1_3: \", CM[2,0])\n",
    "print(\"FP2_3: \", CM[2,1])"
   ]
  },
  {
   "cell_type": "code",
   "execution_count": 53,
   "id": "0b88c874-a1ba-4ce0-9d21-1f15d1aa8d92",
   "metadata": {},
   "outputs": [
    {
     "data": {
      "text/plain": [
       "<Axes: >"
      ]
     },
     "execution_count": 53,
     "metadata": {},
     "output_type": "execute_result"
    },
    {
     "data": {
      "image/png": "[encoded data removed]",
      "text/plain": [
       "<Figure size 600x400 with 2 Axes>"
      ]
     },
     "metadata": {},
     "output_type": "display_data"
    }
   ],
   "source": [
    "plt.figure(figsize=(6,4))\n",
    "\n",
    "cm_matrix = pd.DataFrame(data=CM, columns=['Actual Setosa', 'Actual Versicolor', 'Actual Virginica'], index=['Predict Setosa', 'Predict Versicolor', 'Predict Virginica'])\n",
    "sns.heatmap(cm_matrix, annot=True)"
   ]
  },
  {
   "cell_type": "markdown",
   "id": "8cc0b3cc-3768-4d78-a63c-c2de5dceef55",
   "metadata": {},
   "source": [
    "KNN internal working \n",
    "\n",
    "k-fold techniques\n",
    "\n",
    "learning rate\n",
    "\n",
    "epoc\n",
    "\n",
    "overfitting-underfitting\n",
    "\n",
    "svm vs knn ->new dataset -> medical / object classification -> PARKINSON'S\n",
    "\n",
    "EEG image dataset\n",
    "\n",
    "WORD FILE EXPLAINING ENTIRE PROCESS"
   ]
  }
 ],
 "metadata": {
  "kernelspec": {
   "display_name": "Python 3 (ipykernel)",
   "language": "python",
   "name": "python3"
  },
  "language_info": {
   "codemirror_mode": {
    "name": "ipython",
    "version": 3
   },
   "file_extension": ".py",
   "mimetype": "text/x-python",
   "name": "python",
   "nbconvert_exporter": "python",
   "pygments_lexer": "ipython3",
   "version": "3.10.13"
  }
 },
 "nbformat": 4,
 "nbformat_minor": 5
}
